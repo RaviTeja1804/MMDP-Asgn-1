{
  "nbformat": 4,
  "nbformat_minor": 0,
  "metadata": {
    "colab": {
      "provenance": []
    },
    "kernelspec": {
      "name": "python3",
      "display_name": "Python 3"
    },
    "language_info": {
      "name": "python"
    }
  },
  "cells": [
    {
      "cell_type": "markdown",
      "source": [
        "# **TASK-1 A**"
      ],
      "metadata": {
        "id": "fCXZWf-yphcp"
      }
    },
    {
      "cell_type": "code",
      "execution_count": 1,
      "metadata": {
        "id": "Qo3FDOlhpf_e"
      },
      "outputs": [],
      "source": [
        "labels = [\n",
        "    \"Cats\", \"Dogs\", \"Birds\", \"Cars\", \"Bikes\", \"Flowers\", \"Mountains\", \"Rivers\", \"Buildings\", \"Fruits\",\n",
        "    \"Vegetables\", \"Clothes\", \"Shoes\", \"Watches\", \"Phones\", \"Laptops\", \"Books\", \"Food\", \"Furniture\", \"Sports\"\n",
        "]"
      ]
    },
    {
      "cell_type": "code",
      "source": [
        "!pip install selenium"
      ],
      "metadata": {
        "colab": {
          "base_uri": "https://localhost:8080/"
        },
        "id": "1RJY_FTepwPM",
        "outputId": "46c050a7-ce04-4ae0-e53b-e6a9f1ccc050"
      },
      "execution_count": 2,
      "outputs": [
        {
          "output_type": "stream",
          "name": "stdout",
          "text": [
            "Collecting selenium\n",
            "  Downloading selenium-4.29.0-py3-none-any.whl.metadata (7.1 kB)\n",
            "Requirement already satisfied: urllib3<3,>=1.26 in /usr/local/lib/python3.11/dist-packages (from urllib3[socks]<3,>=1.26->selenium) (2.3.0)\n",
            "Collecting trio~=0.17 (from selenium)\n",
            "  Downloading trio-0.29.0-py3-none-any.whl.metadata (8.5 kB)\n",
            "Collecting trio-websocket~=0.9 (from selenium)\n",
            "  Downloading trio_websocket-0.12.2-py3-none-any.whl.metadata (5.1 kB)\n",
            "Requirement already satisfied: certifi>=2021.10.8 in /usr/local/lib/python3.11/dist-packages (from selenium) (2025.1.31)\n",
            "Requirement already satisfied: typing_extensions~=4.9 in /usr/local/lib/python3.11/dist-packages (from selenium) (4.12.2)\n",
            "Requirement already satisfied: websocket-client~=1.8 in /usr/local/lib/python3.11/dist-packages (from selenium) (1.8.0)\n",
            "Requirement already satisfied: attrs>=23.2.0 in /usr/local/lib/python3.11/dist-packages (from trio~=0.17->selenium) (25.1.0)\n",
            "Requirement already satisfied: sortedcontainers in /usr/local/lib/python3.11/dist-packages (from trio~=0.17->selenium) (2.4.0)\n",
            "Requirement already satisfied: idna in /usr/local/lib/python3.11/dist-packages (from trio~=0.17->selenium) (3.10)\n",
            "Collecting outcome (from trio~=0.17->selenium)\n",
            "  Downloading outcome-1.3.0.post0-py2.py3-none-any.whl.metadata (2.6 kB)\n",
            "Requirement already satisfied: sniffio>=1.3.0 in /usr/local/lib/python3.11/dist-packages (from trio~=0.17->selenium) (1.3.1)\n",
            "Collecting wsproto>=0.14 (from trio-websocket~=0.9->selenium)\n",
            "  Downloading wsproto-1.2.0-py3-none-any.whl.metadata (5.6 kB)\n",
            "Requirement already satisfied: pysocks!=1.5.7,<2.0,>=1.5.6 in /usr/local/lib/python3.11/dist-packages (from urllib3[socks]<3,>=1.26->selenium) (1.7.1)\n",
            "Requirement already satisfied: h11<1,>=0.9.0 in /usr/local/lib/python3.11/dist-packages (from wsproto>=0.14->trio-websocket~=0.9->selenium) (0.14.0)\n",
            "Downloading selenium-4.29.0-py3-none-any.whl (9.5 MB)\n",
            "\u001b[2K   \u001b[90m━━━━━━━━━━━━━━━━━━━━━━━━━━━━━━━━━━━━━━━━\u001b[0m \u001b[32m9.5/9.5 MB\u001b[0m \u001b[31m76.6 MB/s\u001b[0m eta \u001b[36m0:00:00\u001b[0m\n",
            "\u001b[?25hDownloading trio-0.29.0-py3-none-any.whl (492 kB)\n",
            "\u001b[2K   \u001b[90m━━━━━━━━━━━━━━━━━━━━━━━━━━━━━━━━━━━━━━━━\u001b[0m \u001b[32m492.9/492.9 kB\u001b[0m \u001b[31m19.6 MB/s\u001b[0m eta \u001b[36m0:00:00\u001b[0m\n",
            "\u001b[?25hDownloading trio_websocket-0.12.2-py3-none-any.whl (21 kB)\n",
            "Downloading outcome-1.3.0.post0-py2.py3-none-any.whl (10 kB)\n",
            "Downloading wsproto-1.2.0-py3-none-any.whl (24 kB)\n",
            "Installing collected packages: wsproto, outcome, trio, trio-websocket, selenium\n",
            "Successfully installed outcome-1.3.0.post0 selenium-4.29.0 trio-0.29.0 trio-websocket-0.12.2 wsproto-1.2.0\n"
          ]
        }
      ]
    },
    {
      "cell_type": "code",
      "source": [
        "import os\n",
        "import time\n",
        "import requests\n",
        "import pandas as pd\n",
        "from selenium import webdriver\n",
        "from selenium.webdriver.common.by import By\n",
        "from selenium.webdriver.common.keys import Keys\n",
        "from PIL import Image\n",
        "\n",
        "from selenium import webdriver\n",
        "\n",
        "chrome_options = webdriver.ChromeOptions()\n",
        "chrome_options.add_argument(\"--headless\")\n",
        "chrome_options.add_argument(\"--no-sandbox\")\n",
        "chrome_options.add_argument(\"--disable-dev-shm-usage\")\n",
        "chrome_options.add_argument(\"--user-data-dir=/tmp/new_chrome_profile\")\n",
        "\n",
        "driver = webdriver.Chrome(options=chrome_options)\n",
        "\n",
        "\n",
        "dataset_path = \"image_dataset\"\n",
        "os.makedirs(dataset_path, exist_ok=True)\n",
        "\n",
        "metadata = []\n",
        "\n",
        "def download_image(url,folder,filename):\n",
        "        try:\n",
        "                response = requests.get(url,timeout=5)\n",
        "                if response.status_code == 200:\n",
        "                        filepath = os.path.join(folder,filename)\n",
        "                        with open(filepath, 'wb') as f:\n",
        "                                f.write(response.content)\n",
        "\n",
        "                        with Image.open(filepath) as img:\n",
        "                                width, height = img.size\n",
        "                                return filepath, width, height\n",
        "\n",
        "        except Exception as e:\n",
        "                print(e)\n",
        "        return None, None, None\n",
        "\n",
        "for label in labels:\n",
        "        folder_path = os.path.join(dataset_path,label)\n",
        "        os.makedirs(folder_path, exist_ok=True)\n",
        "\n",
        "        search_url = f\"https://www.google.com/search?q={label}+photo+-stock+-clipart&tbm=isch&tbs=isz:l\"\n",
        "        driver.get(search_url)\n",
        "        time.sleep(2)\n",
        "\n",
        "        body = driver.find_element(By.TAG_NAME, 'body')\n",
        "        for _ in range(10):\n",
        "                body.send_keys(Keys.PAGE_DOWN)\n",
        "                time.sleep(4)\n",
        "\n",
        "        images = driver.find_elements(By.CSS_SELECTOR, 'img')\n",
        "        count = 0\n",
        "\n",
        "        for img in images:\n",
        "                if count>=50:\n",
        "                        break\n",
        "                src = img.get_attribute('src')\n",
        "                if src and \"http\" in src:\n",
        "                        filename = f\"{label}_{count+1}.jpg\"\n",
        "                        filepath, width, height = download_image(src,folder_path,filename)\n",
        "                        if filepath:\n",
        "                                metadata.append([label,src,filepath,width,height])\n",
        "                                count += 1\n",
        "\n",
        "df = pd.DataFrame(metadata, columns=[\"label\",\"url\",\"filepath\",\"width\",\"height\"])\n",
        "df.to_csv(os.path.join(dataset_path,\"image_metadata.csv\"), index=False)\n",
        "\n",
        "driver.quit()\n",
        "print(\"Downloaded images successfully\")"
      ],
      "metadata": {
        "colab": {
          "base_uri": "https://localhost:8080/"
        },
        "id": "v---shxJpygs",
        "outputId": "692fe8d0-29e5-4b45-cd68-682e227415c8"
      },
      "execution_count": 3,
      "outputs": [
        {
          "output_type": "stream",
          "name": "stdout",
          "text": [
            "cannot identify image file 'image_dataset/Cats/Cats_2.jpg'\n",
            "cannot identify image file 'image_dataset/Dogs/Dogs_2.jpg'\n",
            "cannot identify image file 'image_dataset/Birds/Birds_2.jpg'\n",
            "cannot identify image file 'image_dataset/Cars/Cars_3.jpg'\n",
            "cannot identify image file 'image_dataset/Bikes/Bikes_2.jpg'\n",
            "cannot identify image file 'image_dataset/Flowers/Flowers_2.jpg'\n",
            "cannot identify image file 'image_dataset/Mountains/Mountains_2.jpg'\n",
            "cannot identify image file 'image_dataset/Rivers/Rivers_2.jpg'\n",
            "cannot identify image file 'image_dataset/Buildings/Buildings_1.jpg'\n",
            "cannot identify image file 'image_dataset/Fruits/Fruits_2.jpg'\n",
            "cannot identify image file 'image_dataset/Vegetables/Vegetables_2.jpg'\n",
            "cannot identify image file 'image_dataset/Clothes/Clothes_2.jpg'\n",
            "cannot identify image file 'image_dataset/Shoes/Shoes_2.jpg'\n",
            "cannot identify image file 'image_dataset/Watches/Watches_3.jpg'\n",
            "cannot identify image file 'image_dataset/Phones/Phones_2.jpg'\n",
            "cannot identify image file 'image_dataset/Laptops/Laptops_2.jpg'\n",
            "cannot identify image file 'image_dataset/Books/Books_2.jpg'\n",
            "cannot identify image file 'image_dataset/Food/Food_1.jpg'\n",
            "cannot identify image file 'image_dataset/Furniture/Furniture_2.jpg'\n",
            "cannot identify image file 'image_dataset/Sports/Sports_2.jpg'\n",
            "Downloaded images successfully\n"
          ]
        }
      ]
    },
    {
      "cell_type": "code",
      "source": [
        "import shutil\n",
        "\n",
        "# Replace 'your_folder' with the actual folder name\n",
        "shutil.make_archive('image_files', 'zip', 'image_dataset')\n",
        "\n",
        "from google.colab import files\n",
        "files.download('image_files.zip')\n"
      ],
      "metadata": {
        "colab": {
          "base_uri": "https://localhost:8080/",
          "height": 17
        },
        "id": "KT0hP6ObvNL6",
        "outputId": "9e048e0d-0d1d-47a7-e425-65fa89c99467"
      },
      "execution_count": 4,
      "outputs": [
        {
          "output_type": "display_data",
          "data": {
            "text/plain": [
              "<IPython.core.display.Javascript object>"
            ],
            "application/javascript": [
              "\n",
              "    async function download(id, filename, size) {\n",
              "      if (!google.colab.kernel.accessAllowed) {\n",
              "        return;\n",
              "      }\n",
              "      const div = document.createElement('div');\n",
              "      const label = document.createElement('label');\n",
              "      label.textContent = `Downloading \"${filename}\": `;\n",
              "      div.appendChild(label);\n",
              "      const progress = document.createElement('progress');\n",
              "      progress.max = size;\n",
              "      div.appendChild(progress);\n",
              "      document.body.appendChild(div);\n",
              "\n",
              "      const buffers = [];\n",
              "      let downloaded = 0;\n",
              "\n",
              "      const channel = await google.colab.kernel.comms.open(id);\n",
              "      // Send a message to notify the kernel that we're ready.\n",
              "      channel.send({})\n",
              "\n",
              "      for await (const message of channel.messages) {\n",
              "        // Send a message to notify the kernel that we're ready.\n",
              "        channel.send({})\n",
              "        if (message.buffers) {\n",
              "          for (const buffer of message.buffers) {\n",
              "            buffers.push(buffer);\n",
              "            downloaded += buffer.byteLength;\n",
              "            progress.value = downloaded;\n",
              "          }\n",
              "        }\n",
              "      }\n",
              "      const blob = new Blob(buffers, {type: 'application/binary'});\n",
              "      const a = document.createElement('a');\n",
              "      a.href = window.URL.createObjectURL(blob);\n",
              "      a.download = filename;\n",
              "      div.appendChild(a);\n",
              "      a.click();\n",
              "      div.remove();\n",
              "    }\n",
              "  "
            ]
          },
          "metadata": {}
        },
        {
          "output_type": "display_data",
          "data": {
            "text/plain": [
              "<IPython.core.display.Javascript object>"
            ],
            "application/javascript": [
              "download(\"download_fb1cd50a-08e7-4445-9669-8c773f8fa400\", \"Task-1 A.zip\", 7931581)"
            ]
          },
          "metadata": {}
        }
      ]
    }
  ]
}