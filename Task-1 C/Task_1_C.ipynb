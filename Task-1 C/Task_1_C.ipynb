{
  "nbformat": 4,
  "nbformat_minor": 0,
  "metadata": {
    "colab": {
      "provenance": []
    },
    "kernelspec": {
      "name": "python3",
      "display_name": "Python 3"
    },
    "language_info": {
      "name": "python"
    }
  },
  "cells": [
    {
      "cell_type": "markdown",
      "source": [
        "# **Task-1 C**"
      ],
      "metadata": {
        "id": "SKpDkUfzv5u1"
      }
    },
    {
      "cell_type": "code",
      "execution_count": null,
      "metadata": {
        "colab": {
          "base_uri": "https://localhost:8080/"
        },
        "id": "VTaWOoOAv2ys",
        "outputId": "74a20857-6261-4754-bf09-8948bc4a5cbb"
      },
      "outputs": [
        {
          "output_type": "stream",
          "name": "stdout",
          "text": [
            "Reading package lists... Done\n",
            "Building dependency tree... Done\n",
            "Reading state information... Done\n",
            "ffmpeg is already the newest version (7:4.4.2-0ubuntu0.22.04.1).\n",
            "0 upgraded, 0 newly installed, 0 to remove and 29 not upgraded.\n",
            "✅ Audio clip saved at: /content/audio_clips/clip_telugu_1.wav\n",
            "📜 Metadata saved for: /content/audio_clips/clip_telugu_1.wav\n",
            "⏳ Waiting for 1 minute before the next recording...\n",
            "✅ Audio clip saved at: /content/audio_clips/clip_telugu_2.wav\n",
            "📜 Metadata saved for: /content/audio_clips/clip_telugu_2.wav\n",
            "⏳ Waiting for 1 minute before the next recording...\n",
            "✅ Audio clip saved at: /content/audio_clips/clip_telugu_3.wav\n",
            "📜 Metadata saved for: /content/audio_clips/clip_telugu_3.wav\n",
            "⏳ Waiting for 1 minute before the next recording...\n",
            "✅ Audio clip saved at: /content/audio_clips/clip_telugu_4.wav\n",
            "📜 Metadata saved for: /content/audio_clips/clip_telugu_4.wav\n",
            "⏳ Waiting for 1 minute before the next recording...\n",
            "✅ Audio clip saved at: /content/audio_clips/clip_telugu_5.wav\n",
            "📜 Metadata saved for: /content/audio_clips/clip_telugu_5.wav\n",
            "⏳ Waiting for 1 minute before the next recording...\n",
            "✅ Audio clip saved at: /content/audio_clips/clip_telugu_6.wav\n",
            "📜 Metadata saved for: /content/audio_clips/clip_telugu_6.wav\n",
            "⏳ Waiting for 1 minute before the next recording...\n",
            "✅ Audio clip saved at: /content/audio_clips/clip_telugu_7.wav\n",
            "📜 Metadata saved for: /content/audio_clips/clip_telugu_7.wav\n",
            "⏳ Waiting for 1 minute before the next recording...\n",
            "✅ Audio clip saved at: /content/audio_clips/clip_telugu_8.wav\n",
            "📜 Metadata saved for: /content/audio_clips/clip_telugu_8.wav\n",
            "⏳ Waiting for 1 minute before the next recording...\n",
            "✅ Audio clip saved at: /content/audio_clips/clip_telugu_9.wav\n",
            "📜 Metadata saved for: /content/audio_clips/clip_telugu_9.wav\n",
            "⏳ Waiting for 1 minute before the next recording...\n",
            "✅ Audio clip saved at: /content/audio_clips/clip_telugu_10.wav\n",
            "📜 Metadata saved for: /content/audio_clips/clip_telugu_10.wav\n",
            "⏳ Waiting for 1 minute before the next recording...\n",
            "✅ Audio clip saved at: /content/audio_clips/clip_telugu_11.wav\n",
            "📜 Metadata saved for: /content/audio_clips/clip_telugu_11.wav\n",
            "⏳ Waiting for 1 minute before the next recording...\n",
            "✅ Audio clip saved at: /content/audio_clips/clip_telugu_12.wav\n",
            "📜 Metadata saved for: /content/audio_clips/clip_telugu_12.wav\n",
            "⏳ Waiting for 1 minute before the next recording...\n",
            "✅ Audio clip saved at: /content/audio_clips/clip_telugu_13.wav\n",
            "📜 Metadata saved for: /content/audio_clips/clip_telugu_13.wav\n",
            "⏳ Waiting for 1 minute before the next recording...\n",
            "✅ Audio clip saved at: /content/audio_clips/clip_telugu_14.wav\n",
            "📜 Metadata saved for: /content/audio_clips/clip_telugu_14.wav\n",
            "⏳ Waiting for 1 minute before the next recording...\n",
            "✅ Audio clip saved at: /content/audio_clips/clip_telugu_15.wav\n",
            "📜 Metadata saved for: /content/audio_clips/clip_telugu_15.wav\n",
            "⏳ Waiting for 1 minute before the next recording...\n",
            "✅ Audio clip saved at: /content/audio_clips/clip_telugu_16.wav\n",
            "📜 Metadata saved for: /content/audio_clips/clip_telugu_16.wav\n",
            "⏳ Waiting for 1 minute before the next recording...\n",
            "✅ Audio clip saved at: /content/audio_clips/clip_telugu_17.wav\n",
            "📜 Metadata saved for: /content/audio_clips/clip_telugu_17.wav\n",
            "⏳ Waiting for 1 minute before the next recording...\n",
            "✅ Audio clip saved at: /content/audio_clips/clip_telugu_18.wav\n",
            "📜 Metadata saved for: /content/audio_clips/clip_telugu_18.wav\n",
            "⏳ Waiting for 1 minute before the next recording...\n",
            "✅ Audio clip saved at: /content/audio_clips/clip_telugu_19.wav\n",
            "📜 Metadata saved for: /content/audio_clips/clip_telugu_19.wav\n",
            "⏳ Waiting for 1 minute before the next recording...\n",
            "✅ Audio clip saved at: /content/audio_clips/clip_telugu_20.wav\n",
            "📜 Metadata saved for: /content/audio_clips/clip_telugu_20.wav\n",
            "⏳ Waiting for 1 minute before the next recording...\n",
            "✅ Audio clip saved at: /content/audio_clips/clip_telugu_21.wav\n",
            "📜 Metadata saved for: /content/audio_clips/clip_telugu_21.wav\n",
            "⏳ Waiting for 1 minute before the next recording...\n",
            "✅ Audio clip saved at: /content/audio_clips/clip_telugu_22.wav\n",
            "📜 Metadata saved for: /content/audio_clips/clip_telugu_22.wav\n",
            "⏳ Waiting for 1 minute before the next recording...\n",
            "✅ Audio clip saved at: /content/audio_clips/clip_telugu_23.wav\n",
            "📜 Metadata saved for: /content/audio_clips/clip_telugu_23.wav\n",
            "⏳ Waiting for 1 minute before the next recording...\n",
            "✅ Audio clip saved at: /content/audio_clips/clip_telugu_24.wav\n",
            "📜 Metadata saved for: /content/audio_clips/clip_telugu_24.wav\n",
            "⏳ Waiting for 1 minute before the next recording...\n",
            "✅ Audio clip saved at: /content/audio_clips/clip_telugu_25.wav\n",
            "📜 Metadata saved for: /content/audio_clips/clip_telugu_25.wav\n",
            "⏳ Waiting for 1 minute before the next recording...\n",
            "✅ Audio clip saved at: /content/audio_clips/clip_telugu_26.wav\n",
            "📜 Metadata saved for: /content/audio_clips/clip_telugu_26.wav\n",
            "⏳ Waiting for 1 minute before the next recording...\n",
            "✅ Audio clip saved at: /content/audio_clips/clip_telugu_27.wav\n",
            "📜 Metadata saved for: /content/audio_clips/clip_telugu_27.wav\n",
            "⏳ Waiting for 1 minute before the next recording...\n",
            "✅ Audio clip saved at: /content/audio_clips/clip_telugu_28.wav\n",
            "📜 Metadata saved for: /content/audio_clips/clip_telugu_28.wav\n",
            "⏳ Waiting for 1 minute before the next recording...\n",
            "✅ Audio clip saved at: /content/audio_clips/clip_telugu_29.wav\n",
            "📜 Metadata saved for: /content/audio_clips/clip_telugu_29.wav\n",
            "⏳ Waiting for 1 minute before the next recording...\n",
            "✅ Audio clip saved at: /content/audio_clips/clip_telugu_30.wav\n",
            "📜 Metadata saved for: /content/audio_clips/clip_telugu_30.wav\n",
            "⏳ Waiting for 1 minute before the next recording...\n",
            "✅ Audio clip saved at: /content/audio_clips/clip_telugu_31.wav\n",
            "📜 Metadata saved for: /content/audio_clips/clip_telugu_31.wav\n",
            "⏳ Waiting for 1 minute before the next recording...\n",
            "✅ Audio clip saved at: /content/audio_clips/clip_telugu_32.wav\n",
            "📜 Metadata saved for: /content/audio_clips/clip_telugu_32.wav\n",
            "⏳ Waiting for 1 minute before the next recording...\n"
          ]
        }
      ],
      "source": [
        "import os\n",
        "import subprocess\n",
        "import time\n",
        "import csv\n",
        "from datetime import datetime\n",
        "\n",
        "output_base = \"/content/audio_clips\"\n",
        "os.makedirs(output_base, exist_ok=True)\n",
        "\n",
        "!apt-get install -y ffmpeg\n",
        "\n",
        "stream_url = \"https://cast3.asurahosting.com/proxy/santhar1/stream\"\n",
        "metadata_file = os.path.join(output_base, \"audio_metadata.csv\")\n",
        "station_name = \"Santhar Radio\"\n",
        "\n",
        "if not os.path.exists(metadata_file):\n",
        "    with open(metadata_file, mode='w', newline='') as file:\n",
        "        writer = csv.writer(file)\n",
        "        writer.writerow([\"Station Name\", \"Timestamp\", \"Duration (seconds)\", \"Path\"])\n",
        "\n",
        "for i in range(1, 33):\n",
        "    output_file = os.path.join(output_base, f\"clip_telugu_{i}.wav\")\n",
        "    relative_path = f\"audio_clips/clip_telugu_{i}.wav\"\n",
        "    command = [\n",
        "        \"ffmpeg\",\n",
        "        \"-y\",\n",
        "        \"-i\", stream_url,\n",
        "        \"-t\", \"40\",\n",
        "        \"-c:a\", \"pcm_s16le\",\n",
        "        \"-ar\", \"44100\",\n",
        "        \"-ac\", \"2\",\n",
        "        output_file\n",
        "    ]\n",
        "\n",
        "    try:\n",
        "        subprocess.run(command, check=True)\n",
        "        print(f\"✅ Audio clip saved at: {output_file}\")\n",
        "\n",
        "        timestamp = datetime.now().strftime(\"%Y-%m-%d %H:%M:%S\")\n",
        "        duration = 40\n",
        "\n",
        "        with open(metadata_file, mode='a', newline='') as file:\n",
        "            writer = csv.writer(file)\n",
        "            writer.writerow([station_name, timestamp, duration, relative_path])\n",
        "\n",
        "        print(f\"📜 Metadata saved for: {output_file}\")\n",
        "\n",
        "    except subprocess.CalledProcessError as e:\n",
        "        print(f\"❌ FFmpeg error: {e}\")\n",
        "    except FileNotFoundError:\n",
        "        print(\"❌ FFmpeg not found. Ensure it is installed and the path is correct.\")\n",
        "\n",
        "    if i < 33:\n",
        "        print(\"⏳ Waiting for 1 minute before the next recording...\")\n",
        "        time.sleep(60)\n"
      ]
    },
    {
      "cell_type": "code",
      "source": [
        "import shutil\n",
        "shutil.make_archive(\"audio_clips\", 'zip', \"audio_clips\")\n",
        "\n",
        "from google.colab import files\n",
        "files.download(\"audio_clips.zip\")\n"
      ],
      "metadata": {
        "colab": {
          "base_uri": "https://localhost:8080/",
          "height": 17
        },
        "id": "n7LCoAJn9d1O",
        "outputId": "6874814c-9d96-4e25-d050-e49b2be92d93"
      },
      "execution_count": 2,
      "outputs": [
        {
          "output_type": "display_data",
          "data": {
            "text/plain": [
              "<IPython.core.display.Javascript object>"
            ],
            "application/javascript": [
              "\n",
              "    async function download(id, filename, size) {\n",
              "      if (!google.colab.kernel.accessAllowed) {\n",
              "        return;\n",
              "      }\n",
              "      const div = document.createElement('div');\n",
              "      const label = document.createElement('label');\n",
              "      label.textContent = `Downloading \"${filename}\": `;\n",
              "      div.appendChild(label);\n",
              "      const progress = document.createElement('progress');\n",
              "      progress.max = size;\n",
              "      div.appendChild(progress);\n",
              "      document.body.appendChild(div);\n",
              "\n",
              "      const buffers = [];\n",
              "      let downloaded = 0;\n",
              "\n",
              "      const channel = await google.colab.kernel.comms.open(id);\n",
              "      // Send a message to notify the kernel that we're ready.\n",
              "      channel.send({})\n",
              "\n",
              "      for await (const message of channel.messages) {\n",
              "        // Send a message to notify the kernel that we're ready.\n",
              "        channel.send({})\n",
              "        if (message.buffers) {\n",
              "          for (const buffer of message.buffers) {\n",
              "            buffers.push(buffer);\n",
              "            downloaded += buffer.byteLength;\n",
              "            progress.value = downloaded;\n",
              "          }\n",
              "        }\n",
              "      }\n",
              "      const blob = new Blob(buffers, {type: 'application/binary'});\n",
              "      const a = document.createElement('a');\n",
              "      a.href = window.URL.createObjectURL(blob);\n",
              "      a.download = filename;\n",
              "      div.appendChild(a);\n",
              "      a.click();\n",
              "      div.remove();\n",
              "    }\n",
              "  "
            ]
          },
          "metadata": {}
        },
        {
          "output_type": "display_data",
          "data": {
            "text/plain": [
              "<IPython.core.display.Javascript object>"
            ],
            "application/javascript": [
              "download(\"download_b20b083b-01e9-44d3-a146-a5d83b22d669\", \"audio_clips.zip\", 214534954)"
            ]
          },
          "metadata": {}
        }
      ]
    }
  ]
}